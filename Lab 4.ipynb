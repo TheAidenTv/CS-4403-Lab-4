{
 "cells": [
  {
   "cell_type": "code",
   "execution_count": 62,
   "metadata": {},
   "outputs": [
    {
     "name": "stdout",
     "output_type": "stream",
     "text": [
      "        TV  Radio  Newspaper  Sales\n",
      "0    230.1   37.8       69.2   22.1\n",
      "1     44.5   39.3       45.1   10.4\n",
      "2     17.2   45.9       69.3   12.0\n",
      "3    151.5   41.3       58.5   16.5\n",
      "4    180.8   10.8       58.4   17.9\n",
      "..     ...    ...        ...    ...\n",
      "195   38.2    3.7       13.8    7.6\n",
      "196   94.2    4.9        8.1   14.0\n",
      "197  177.0    9.3        6.4   14.8\n",
      "198  283.6   42.0       66.2   25.5\n",
      "199  232.1    8.6        8.7   18.4\n",
      "\n",
      "[200 rows x 4 columns]\n"
     ]
    }
   ],
   "source": [
    "import numpy as np\n",
    "import matplotlib.pyplot as plt\n",
    "import pandas as pd\n",
    "\n",
    "# Importing the dataset\n",
    "df = pd.read_csv('Company_ad_buys_and_sales.csv')\n",
    "print(df)"
   ]
  },
  {
   "attachments": {},
   "cell_type": "markdown",
   "metadata": {},
   "source": [
    "# Linear Regression"
   ]
  },
  {
   "attachments": {},
   "cell_type": "markdown",
   "metadata": {},
   "source": [
    "## TV Data"
   ]
  },
  {
   "cell_type": "code",
   "execution_count": 63,
   "metadata": {},
   "outputs": [],
   "source": [
    "# create list X - the Level\n",
    "tvX = df.iloc[:, 0:1].values\n",
    "\n",
    "# create list y - the Salary\n",
    "y = df.iloc[:, 3].values"
   ]
  },
  {
   "cell_type": "code",
   "execution_count": 64,
   "metadata": {},
   "outputs": [
    {
     "data": {
      "text/plain": [
       "LinearRegression()"
      ]
     },
     "execution_count": 64,
     "metadata": {},
     "output_type": "execute_result"
    }
   ],
   "source": [
    "# Linear regression with scikit-learn\n",
    "\n",
    "# import the library\n",
    "from sklearn.linear_model import LinearRegression\n",
    "\n",
    "# create an instance of the linear regression class\n",
    "lin_reg = LinearRegression()\n",
    "# fit (train) the model\n",
    "lin_reg.fit(tvX, y)"
   ]
  },
  {
   "cell_type": "code",
   "execution_count": 65,
   "metadata": {},
   "outputs": [
    {
     "data": {
      "image/png": "[encoded data removed]",
      "text/plain": [
       "<Figure size 432x288 with 1 Axes>"
      ]
     },
     "metadata": {
      "needs_background": "light"
     },
     "output_type": "display_data"
    }
   ],
   "source": [
    "plt.scatter(tvX, y, color='red')\n",
    "# the predict function just returns the slope times x + intercept \n",
    "plt.plot(tvX, lin_reg.predict(tvX), color='blue')\n",
    "plt.title('Linear Regression')\n",
    "plt.xlabel('TV Data')\n",
    "plt.ylabel('Sales')\n",
    "plt.show()"
   ]
  },
  {
   "cell_type": "code",
   "execution_count": 66,
   "metadata": {},
   "outputs": [
    {
     "name": "stdout",
     "output_type": "stream",
     "text": [
      "R-squared = 0.8121757029987414\n"
     ]
    }
   ],
   "source": [
    "#calculate predictions based on the regression line\n",
    "predicted = map(lambda x:lin_reg.predict([x]), tvX)\n",
    "b = list(predicted)\n",
    "\n",
    "# calculate R-squared\n",
    "from sklearn.metrics import r2_score \n",
    "R_2 = r2_score(y, b) \n",
    "print('R-squared =', R_2) "
   ]
  },
  {
   "attachments": {},
   "cell_type": "markdown",
   "metadata": {},
   "source": [
    "## Radio Data"
   ]
  },
  {
   "cell_type": "code",
   "execution_count": 67,
   "metadata": {},
   "outputs": [],
   "source": [
    "# create list X - the Level\n",
    "radioX = df.iloc[:, 1:2].values\n",
    "\n",
    "# create list y - the Salary\n",
    "y = df.iloc[:, 3].values"
   ]
  },
  {
   "cell_type": "code",
   "execution_count": 68,
   "metadata": {},
   "outputs": [
    {
     "data": {
      "text/plain": [
       "LinearRegression()"
      ]
     },
     "execution_count": 68,
     "metadata": {},
     "output_type": "execute_result"
    }
   ],
   "source": [
    "# Linear regression with scikit-learn\n",
    "\n",
    "# import the library\n",
    "from sklearn.linear_model import LinearRegression\n",
    "\n",
    "# create an instance of the linear regression class\n",
    "lin_reg = LinearRegression()\n",
    "# fit (train) the model\n",
    "lin_reg.fit(radioX, y)"
   ]
  },
  {
   "cell_type": "code",
   "execution_count": 69,
   "metadata": {},
   "outputs": [
    {
     "data": {
      "image/png": "[encoded data removed]",
      "text/plain": [
       "<Figure size 432x288 with 1 Axes>"
      ]
     },
     "metadata": {
      "needs_background": "light"
     },
     "output_type": "display_data"
    }
   ],
   "source": [
    "plt.scatter(radioX, y, color='red')\n",
    "# the predict function just returns the slope times x + intercept \n",
    "plt.plot(radioX, lin_reg.predict(radioX), color='blue')\n",
    "plt.title('Linear Regression')\n",
    "plt.xlabel('Radio Data')\n",
    "plt.ylabel('Sales')\n",
    "plt.show()"
   ]
  },
  {
   "cell_type": "code",
   "execution_count": 70,
   "metadata": {},
   "outputs": [
    {
     "name": "stdout",
     "output_type": "stream",
     "text": [
      "R-squared = 0.1222419039947863\n"
     ]
    }
   ],
   "source": [
    "#calculate predictions based on the regression line\n",
    "predicted = map(lambda x:lin_reg.predict([x]), radioX)\n",
    "b = list(predicted)\n",
    "\n",
    "# calculate R-squared\n",
    "from sklearn.metrics import r2_score \n",
    "R_2 = r2_score(y, b) \n",
    "print('R-squared =', R_2) "
   ]
  },
  {
   "attachments": {},
   "cell_type": "markdown",
   "metadata": {},
   "source": [
    "## Newspaper Data"
   ]
  },
  {
   "cell_type": "code",
   "execution_count": 71,
   "metadata": {},
   "outputs": [],
   "source": [
    "# create list X - the Level\n",
    "newspaperX = df.iloc[:, 2:3].values\n",
    "\n",
    "# create list y - the Salary\n",
    "y = df.iloc[:, 3].values"
   ]
  },
  {
   "cell_type": "code",
   "execution_count": 72,
   "metadata": {},
   "outputs": [
    {
     "data": {
      "text/plain": [
       "LinearRegression()"
      ]
     },
     "execution_count": 72,
     "metadata": {},
     "output_type": "execute_result"
    }
   ],
   "source": [
    "# Linear regression with scikit-learn\n",
    "\n",
    "# import the library\n",
    "from sklearn.linear_model import LinearRegression\n",
    "\n",
    "# create an instance of the linear regression class\n",
    "lin_reg = LinearRegression()\n",
    "# fit (train) the model\n",
    "lin_reg.fit(newspaperX, y)"
   ]
  },
  {
   "cell_type": "code",
   "execution_count": 73,
   "metadata": {},
   "outputs": [
    {
     "data": {
      "image/png": "[encoded data removed]",
      "text/plain": [
       "<Figure size 432x288 with 1 Axes>"
      ]
     },
     "metadata": {
      "needs_background": "light"
     },
     "output_type": "display_data"
    }
   ],
   "source": [
    "plt.scatter(radioX, y, color='red')\n",
    "# the predict function just returns the slope times x + intercept \n",
    "plt.plot(radioX, lin_reg.predict(radioX), color='blue')\n",
    "plt.title('Linear Regression')\n",
    "plt.xlabel('Newspaper Data')\n",
    "plt.ylabel('Sales')\n",
    "plt.show()"
   ]
  },
  {
   "cell_type": "code",
   "execution_count": 74,
   "metadata": {},
   "outputs": [
    {
     "name": "stdout",
     "output_type": "stream",
     "text": [
      "R-squared = 0.024951369862864836\n"
     ]
    }
   ],
   "source": [
    "#calculate predictions based on the regression line\n",
    "predicted = map(lambda x:lin_reg.predict([x]), newspaperX)\n",
    "b = list(predicted)\n",
    "\n",
    "# calculate R-squared\n",
    "from sklearn.metrics import r2_score \n",
    "R_2 = r2_score(y, b) \n",
    "print('R-squared =', R_2) "
   ]
  },
  {
   "attachments": {},
   "cell_type": "markdown",
   "metadata": {},
   "source": [
    "# Polynomial Regression"
   ]
  },
  {
   "attachments": {},
   "cell_type": "markdown",
   "metadata": {},
   "source": [
    "## TV Data"
   ]
  },
  {
   "cell_type": "code",
   "execution_count": 75,
   "metadata": {},
   "outputs": [
    {
     "data": {
      "image/png": "[encoded data removed]",
      "text/plain": [
       "<Figure size 432x288 with 1 Axes>"
      ]
     },
     "metadata": {
      "needs_background": "light"
     },
     "output_type": "display_data"
    }
   ],
   "source": [
    "# using numpy\n",
    "a = np.array(df['TV'])\n",
    "b = np.array(df['Sales'])\n",
    "\n",
    "poly_model_np = np.poly1d(np.polyfit(a, b, 4))\n",
    "\n",
    "# visualization\n",
    "import matplotlib.pyplot as plt\n",
    "\n",
    "xp = np.linspace(0, 300, 100)\n",
    "# plot data\n",
    "plt.scatter(a, b)\n",
    "# plot prediction line\n",
    "plt.plot(xp, poly_model_np(xp), c='r')\n",
    "plt.show()"
   ]
  },
  {
   "cell_type": "code",
   "execution_count": 98,
   "metadata": {},
   "outputs": [
    {
     "data": {
      "text/plain": [
       "0.9012079133023305"
      ]
     },
     "execution_count": 98,
     "metadata": {},
     "output_type": "execute_result"
    }
   ],
   "source": [
    "np.corrcoef(a, b)[1,0]"
   ]
  },
  {
   "attachments": {},
   "cell_type": "markdown",
   "metadata": {},
   "source": [
    "## Radio Data"
   ]
  },
  {
   "cell_type": "code",
   "execution_count": 76,
   "metadata": {},
   "outputs": [
    {
     "data": {
      "image/png": "[encoded data removed]",
      "text/plain": [
       "<Figure size 432x288 with 1 Axes>"
      ]
     },
     "metadata": {
      "needs_background": "light"
     },
     "output_type": "display_data"
    }
   ],
   "source": [
    "# using numpy\n",
    "c = np.array(df['Radio'])\n",
    "d = np.array(df['Sales'])\n",
    "\n",
    "poly_model_np = np.poly1d(np.polyfit(c, d, 4))\n",
    "\n",
    "# visualization\n",
    "import matplotlib.pyplot as plt\n",
    "\n",
    "xp = np.linspace(0, 50, 100)\n",
    "# plot data\n",
    "plt.scatter(c, d)\n",
    "# plot prediction line\n",
    "plt.plot(xp, poly_model_np(xp), c='r')\n",
    "plt.show()"
   ]
  },
  {
   "cell_type": "code",
   "execution_count": 88,
   "metadata": {},
   "outputs": [
    {
     "name": "stdout",
     "output_type": "stream",
     "text": [
      "0.13462473769070626\n"
     ]
    }
   ],
   "source": [
    "# using scikit-learn\n",
    "from sklearn.preprocessing import PolynomialFeatures\n",
    "# create features object\n",
    "poly_reg = PolynomialFeatures(degree=4)\n",
    "# create feature matrix\n",
    "X_poly = poly_reg.fit_transform(radioX)\n",
    "# instantiate class instance\n",
    "pol_reg = LinearRegression()\n",
    "# fit (train) the model\n",
    "pol_reg.fit(X_poly, y)\n",
    "\n",
    "# Using numpy to calculate the r squared value\n",
    "from sklearn.metrics import r2_score\n",
    "# do r_squared\n",
    "r_squared = pol_reg.score(X_poly, y)\n",
    "print(r_squared)"
   ]
  },
  {
   "attachments": {},
   "cell_type": "markdown",
   "metadata": {},
   "source": [
    "## Newspaper Data"
   ]
  },
  {
   "cell_type": "code",
   "execution_count": 77,
   "metadata": {},
   "outputs": [
    {
     "data": {
      "image/png": "[encoded data removed]",
      "text/plain": [
       "<Figure size 432x288 with 1 Axes>"
      ]
     },
     "metadata": {
      "needs_background": "light"
     },
     "output_type": "display_data"
    }
   ],
   "source": [
    "# using numpy\n",
    "e = np.array(df['Newspaper'])\n",
    "f = np.array(df['Sales'])\n",
    "\n",
    "poly_model_np = np.poly1d(np.polyfit(e, f, 4))\n",
    "\n",
    "# visualization\n",
    "import matplotlib.pyplot as plt\n",
    "\n",
    "xp = np.linspace(0, 120, 100)\n",
    "# plot data\n",
    "plt.scatter(e, f)\n",
    "# plot prediction line\n",
    "plt.plot(xp, poly_model_np(xp), c='r')\n",
    "plt.show()"
   ]
  },
  {
   "cell_type": "code",
   "execution_count": 89,
   "metadata": {},
   "outputs": [
    {
     "name": "stdout",
     "output_type": "stream",
     "text": [
      "0.046284585199277584\n"
     ]
    }
   ],
   "source": [
    "# using scikit-learn\n",
    "from sklearn.preprocessing import PolynomialFeatures\n",
    "# create features object\n",
    "poly_reg = PolynomialFeatures(degree=4)\n",
    "# create feature matrix\n",
    "X_poly = poly_reg.fit_transform(newspaperX)\n",
    "# instantiate class instance\n",
    "pol_reg = LinearRegression()\n",
    "# fit (train) the model\n",
    "pol_reg.fit(X_poly, y)\n",
    "\n",
    "# Using numpy to calculate the r squared value\n",
    "from sklearn.metrics import r2_score\n",
    "# do r_squared\n",
    "r_squared = pol_reg.score(X_poly, y)\n",
    "print(r_squared)"
   ]
  }
 ],
 "metadata": {
  "kernelspec": {
   "display_name": "Python 3",
   "language": "python",
   "name": "python3"
  },
  "language_info": {
   "codemirror_mode": {
    "name": "ipython",
    "version": 3
   },
   "file_extension": ".py",
   "mimetype": "text/x-python",
   "name": "python",
   "nbconvert_exporter": "python",
   "pygments_lexer": "ipython3",
   "version": "3.10.1"
  },
  "orig_nbformat": 4,
  "vscode": {
   "interpreter": {
    "hash": "9760b8131888d19683c1dd506f380378de3ae472103aa29667fb35a0c7908869"
   }
  }
 },
 "nbformat": 4,
 "nbformat_minor": 2
}
